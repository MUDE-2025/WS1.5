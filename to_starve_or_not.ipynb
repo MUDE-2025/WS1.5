{
 "cells": [
  {
   "cell_type": "markdown",
   "metadata": {},
   "source": [
    "# Bivariate Gaussian Distributions"
   ]
  },
  {
   "cell_type": "markdown",
   "metadata": {},
   "source": [
    "## Part 1: Introduction and set up\n",
    "\n",
    "In this workshop, you will work with data on water quality of offshore waters, namely the concetration of nitrogen ($DIN$) and the concentration of phosphorus ($DIP$). As you probably know, these variables are nutrients which are key for the growth of species of algae and molluscs that feed on them. In order to guarantee the survival of these species, a minimum amount of nutrients in the water is needed so they do not starve.\n",
    "\n",
    "Currently, there is a growing interest in installing farms of species such as mussels and seaweed offshore due to the limited space in coastal waters. When selecting the location of one of these farms, the availability of enough nutrients in the water is checked so the farmed species can survive and the farm is economically feasible. We can check that by computing the probability of meeting the minimum amount of nutrients in the water.\n",
    "\n",
    "Here, you will first quantify the relationship between $DIN$ and $DIP$ (if they were independent, you could model them using independent univariate distributions!). As you can imagine, there is a relationship between the presence of both nutrients so, afterwards, you will model the bivariate distribution of $DIN$ and $DIP$ using a bivariate Gaussian distribution. Finally, you will use it to compute the probabilities of meeting some conditions."
   ]
  },
  {
   "cell_type": "code",
   "execution_count": null,
   "metadata": {},
   "outputs": [],
   "source": [
    "import pandas as pd\n",
    "import numpy as np\n",
    "from scipy.stats import multivariate_normal\n",
    "from scipy.stats import norm\n",
    "import matplotlib.pyplot as plt\n",
    "from statistics import mean, stdev\n",
    "import os\n",
    "from urllib.request import urlretrieve"
   ]
  },
  {
   "cell_type": "code",
   "execution_count": null,
   "metadata": {},
   "outputs": [],
   "source": [
    "def findfile(fname):\n",
    "    if not os.path.isfile(fname):\n",
    "        print(f\"Downloading {fname}...\")\n",
    "        urlretrieve('http://files.mude.citg.tudelft.nl/'+fname, fname)\n",
    "\n",
    "findfile('S_FINO3_DIN_DIP.csv')"
   ]
  },
  {
   "cell_type": "code",
   "execution_count": null,
   "metadata": {},
   "outputs": [],
   "source": [
    "data = np.loadtxt('S_FINO3_DIN_DIP.csv', delimiter = ',', skiprows=1)\n",
    "data"
   ]
  },
  {
   "cell_type": "markdown",
   "metadata": {},
   "source": [
    "## Part 2: Covariance and correlation"
   ]
  },
  {
   "cell_type": "markdown",
   "metadata": {},
   "source": [
    "<div style=\"background-color:#AABAB2; color: black; width:90%; vertical-align: middle; padding:15px; margin: 10px; border-radius: 10px\">\n",
    "<p>\n",
    "\n",
    "**Task 2.1:**\n",
    "\n",
    "Plot variable X against variable Y. How do you expect the correlation to be? Make sure to label your plot!\n",
    "    \n",
    "</p>\n",
    "</div>"
   ]
  },
  {
   "cell_type": "code",
   "execution_count": null,
   "metadata": {
    "tags": [
     "assignment"
    ]
   },
   "outputs": [],
   "source": [
    "### YOUR CODE HERE ###"
   ]
  },
  {
   "cell_type": "markdown",
   "metadata": {},
   "source": [
    "<div style=\"background-color:#AABAB2; color: black; width:90%; vertical-align: middle; padding:15px; margin: 10px; border-radius: 10px\">\n",
    "<p>\n",
    "\n",
    "**Task 2.2:**\n",
    "\n",
    "It looks like a relationship exists between both variables. Let's quantify it!\n",
    "\n",
    "Define a function which calculates the covariance between two variables. The function must take as input the two vectors of observations. The output of the function must be the value for the covariance. Apply the function to the dataset to calculate the covariance between $DIN$ and $DIP$. Interpret the obtained value of the covariance. You may want to write out the calculations steps on paper before starting to code.\n",
    "\n",
    "*Important: you have to code the function yourself, do not use a prebuilt function from a package.*\n",
    "\n",
    "*Hint: you can use the function zip to multiply two lists.*\n",
    "</p>\n",
    "</div>"
   ]
  },
  {
   "cell_type": "code",
   "execution_count": null,
   "metadata": {
    "tags": [
     "assignment"
    ]
   },
   "outputs": [],
   "source": [
    "def calculate_covariance(X1, X2):\n",
    "    ### YOUR CODE HERE ###\n",
    "    return covariance\n",
    "\n",
    "print('The covariance between DIN and DIP is', ### YOUR CODE HERE ###)"
   ]
  },
  {
   "cell_type": "markdown",
   "metadata": {},
   "source": [
    "<div style=\"background-color:#AABAB2; color: black; width:90%; vertical-align: middle; padding:15px; margin: 10px; border-radius: 10px\">\n",
    "<p>\n",
    "\n",
    "**Task 2.3:**\n",
    "\n",
    "Define a function which calculates Pearson's correlation coefficient between two variables. The function must take as input the two vectors of observations. The output of the function must be the value for the correlation coefficient. Apply the function to the dataset to calculate the correlation coefficient between $DIN$ and $DIP$. Interpret the obtained value of the Pearson's correlation coefficient and compare it with the obtained covariance.\n",
    "\n",
    "*Hint: You may want to use the function for finding the covariance that you defined above*\n",
    "\n",
    "</p>\n",
    "</div>"
   ]
  },
  {
   "cell_type": "code",
   "execution_count": null,
   "metadata": {
    "tags": [
     "assignment"
    ]
   },
   "outputs": [],
   "source": [
    "def pearson_correlation(X1, X2):\n",
    "    covariance = calculate_covariance(X1, X2)\n",
    "    correl_coeff = ### YOUR CODE HERE ###\n",
    "    return correl_coeff\n",
    "\n",
    "print(\"Pearson's correlation coefficient between DIN and DIP is\", \n",
    "      ### YOUR CODE HERE ###)"
   ]
  },
  {
   "cell_type": "markdown",
   "metadata": {},
   "source": [
    "## Part 3: Bivariate Gaussian distribution"
   ]
  },
  {
   "cell_type": "markdown",
   "metadata": {},
   "source": [
    "<div style=\"background-color:#AABAB2; color: black; width:90%; vertical-align: middle; padding:15px; margin: 10px; border-radius: 10px\">\n",
    "<p>\n",
    "\n",
    "**Task 3.1:**\n",
    "\n",
    "Model the joint distribution of $DIN$ and $DIP$ using a bivariate Gaussian distribution.\n",
    "Follow the following steps:\n",
    "- Define the vector of means\n",
    "- Define the covariance matrix\n",
    "- Define the bivariate Gaussian distribution and draw 100 samples to compare with the observations.\n",
    "\n",
    "Do you see differences between the observations and the samples from the bivariate Gaussian distribution?\n",
    "</p>\n",
    "</div>"
   ]
  },
  {
   "cell_type": "code",
   "execution_count": null,
   "metadata": {
    "tags": [
     "assignment"
    ]
   },
   "outputs": [],
   "source": [
    "# Define the vector of means\n",
    "mu1 = ### YOUR CODE HERE ###\n",
    "mu2 = ### YOUR CODE HERE ###\n",
    "\n",
    "mu = [mu1, mu2] #vector of means\n",
    "\n",
    "# Define the covariance matrix\n",
    "s1 = ### YOUR CODE HERE ###\n",
    "s2 = ### YOUR CODE HERE ###\n",
    "covariance = ### YOUR CODE HERE ###\n",
    "sigma = ### YOUR CODE HERE ###\n",
    "\n",
    "# Draw 100 samples from a bivariate Gaussian distribution\n",
    "samples = multivariate_normal(mean=mu, cov=sigma).rvs(size=100)\n",
    "\n",
    "# Scatter plot against observations\n",
    "fig, axs = plt.subplots(1, 1)\n",
    "axs.scatter(data[:,0], data[:,1], 40, 'k')\n",
    "axs.scatter(samples[:,0], samples[:,1], 40, 'r')\n",
    "axs.set_ylabel('${DIP} [g/m^3]$')\n",
    "axs.set_xlabel('${DIN} [g/m^3]$')\n",
    "fig.set_size_inches(5, 5)\n",
    "axs.grid();"
   ]
  },
  {
   "cell_type": "markdown",
   "metadata": {},
   "source": [
    "<div style=\"background-color:#AABAB2; color: black; width:90%; vertical-align: middle; padding:15px; margin: 10px; border-radius: 10px\">\n",
    "<p>\n",
    "\n",
    "**Task 3.2:**\n",
    "\n",
    "Using the defined bivariate Gaussian distribution, compute and plot the bivariate CDF as contours where joint probabilities are projected. This is, the x- and y-axis are the values of $DIN$ and $DIP$ and the contours in the plot represent values of joint probabilities.\n",
    "</p>\n",
    "</div>"
   ]
  },
  {
   "cell_type": "code",
   "execution_count": null,
   "metadata": {
    "tags": [
     "assignment"
    ]
   },
   "outputs": [],
   "source": [
    "# Define the mesh of values where we want to evaluate the random variables\n",
    "n = 200 #size of the mesh\n",
    "values_DIN = np.linspace(### YOUR CODE HERE ###)\n",
    "values_DIP = np.linspace(### YOUR CODE HERE ###)\n",
    "\n",
    "# Define the grid\n",
    "X1,X2 = np.meshgrid(### YOUR CODE HERE ###)\n",
    "X = ### YOUR CODE HERE ###\n",
    "\n",
    "# Evaluate the CDF\n",
    "Z = ### YOUR CODE HERE ###\n",
    "\n",
    "# Create contours plot\n",
    "### YOUR CODE LINES HERE"
   ]
  },
  {
   "cell_type": "markdown",
   "metadata": {},
   "source": [
    "<div style=\"background-color:#AABAB2; color: black; width:90%; vertical-align: middle; padding:15px; margin: 10px; border-radius: 10px\">\n",
    "<p>\n",
    "\n",
    "**Task 3.3:**\n",
    "\n",
    "Using the defined bivariate Gaussian distribution, compute the following probabilities:\n",
    "- $P[DIN>0.3]$\n",
    "- $P[DIN \\leq 0.3 \\ AND \\ DIP \\leq 0.005]$\n",
    "- $P[DIN \\leq 0.3 \\ OR \\ DIP \\leq 0.005]$\n",
    "- $P[DIN > 0.3 \\ AND \\ DIP > 0.005]$\n",
    "\n",
    "The last probability would represent the probability of meeting the minimum requirement of nutrients to ensure the survival of the species (note that the values of the requirements are not realistic). Based on the result, would your species starve? Would you build the farm?\n",
    "</p>\n",
    "</div>"
   ]
  },
  {
   "cell_type": "code",
   "execution_count": null,
   "metadata": {
    "tags": [
     "assignment"
    ]
   },
   "outputs": [],
   "source": [
    "### YOUR CODE HERE ###"
   ]
  },
  {
   "cell_type": "markdown",
   "metadata": {},
   "source": [
    "## Part 4: Conditionalizing the Bivariate Gaussian distribution"
   ]
  },
  {
   "cell_type": "markdown",
   "metadata": {},
   "source": [
    "<div style=\"background-color:#AABAB2; color: black; width:90%; vertical-align: middle; padding:15px; margin: 10px; border-radius: 10px\">\n",
    "<p>\n",
    "\n",
    "**Task 4.1:**\n",
    "\n",
    "Compute the distribution of $DIP$, given that the value of $DIN = 0.05$. Plot the PDFs for both the unconditional distribution of $DIP$ and the conditionalized distribution of $DIP$. Comment on the differences of the two distributions and explain why those changes appear.\n",
    "\n",
    "Compute the parameters of the conditional distribution of $DIP$ using pen and paper and make use of the properties of the Gaussian distribution.\n",
    "</p>\n",
    "</div>"
   ]
  },
  {
   "cell_type": "code",
   "execution_count": null,
   "metadata": {
    "tags": [
     "assignment"
    ]
   },
   "outputs": [],
   "source": [
    "### YOUR CODE HERE ###"
   ]
  },
  {
   "cell_type": "markdown",
   "metadata": {},
   "source": [
    "> By Patricia Mares Nasarre, Delft University of Technology. CC BY 4.0, more info on the Credits page of Workbook. "
   ]
  }
 ],
 "metadata": {
  "kernelspec": {
   "display_name": "mude-base",
   "language": "python",
   "name": "python3"
  },
  "language_info": {
   "codemirror_mode": {
    "name": "ipython",
    "version": 3
   },
   "file_extension": ".py",
   "mimetype": "text/x-python",
   "name": "python",
   "nbconvert_exporter": "python",
   "pygments_lexer": "ipython3",
   "version": "3.12.11"
  }
 },
 "nbformat": 4,
 "nbformat_minor": 2
}
