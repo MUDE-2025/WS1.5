{
 "cells": [
  {
   "cell_type": "markdown",
   "metadata": {},
   "source": [
    "# Workshop week 1.5: Starve or not to starve?\n",
    "\n",
    "*[CEGM1000 MUDE](http://mude.citg.tudelft.nl/)*\n",
    "\n",
    "*Written by: Patricia Mares Nasarre*\n",
    "\n",
    "*Due: `<day of week>`, `<month>` `<day>`, `<year>`.*"
   ]
  },
  {
   "cell_type": "markdown",
   "metadata": {},
   "source": [
    "## Part 1: Introduction and set up\n",
    "\n",
    "In this workshop, you will work with data on water quality of offshore waters, namely the concetration of nitrogen ($DIN$) and the concentration of phosphorus ($DIP$). As you probably know, these variables are nutrients which are key for the growth of species of algae e molluscs that feed on them. In order to guarantee the survival of these species, a minimum amount of nutrients in the water is needed so they do not starve.\n",
    "\n",
    "Currently, there is a growing interest in installing farms of species such as mussels and seaweed offshore due to the limited space in coastal waters. When selecting the location of one of these farms, the availability of enough nutrients in the water is checked so the farmed species can survive and the farm is economically feasible. We can check that computing the probability of meeting the minimum amount of nutrients in the water.\n",
    "\n",
    "Here, you will first quantify the relationship between $DIN$ and $DIP$ (if they were independent, you could model them using independent univariate distributions!). As you can imagine, there is a relationship between the presence of both nutrients so, afterwards, you will model the bivariate distribution of $DIN$ and $DIP$ using a bivariate Gaussian distribution. Finally, you will use it to compute the probabilities of meeting some conditions."
   ]
  },
  {
   "cell_type": "code",
   "execution_count": null,
   "metadata": {},
   "outputs": [],
   "source": [
    "import pandas as pd\n",
    "import numpy as np\n",
    "from scipy.stats import multivariate_normal\n",
    "from scipy.stats import norm\n",
    "import matplotlib.pyplot as plt\n",
    "from statistics import mean, stdev\n",
    "import os\n",
    "from urllib.request import urlretrieve"
   ]
  },
  {
   "cell_type": "code",
   "execution_count": null,
   "metadata": {},
   "outputs": [],
   "source": [
    "def findfile(fname):\n",
    "    if not os.path.isfile(fname):\n",
    "        print(f\"Downloading {fname}...\")\n",
    "        urlretrieve('http://files.mude.citg.tudelft.nl/'+fname, fname)\n",
    "\n",
    "findfile('S_FINO3_DIN_DIP.csv')"
   ]
  },
  {
   "cell_type": "code",
   "execution_count": null,
   "metadata": {},
   "outputs": [],
   "source": [
    "data = np.loadtxt('S_FINO3_DIN_DIP.csv', delimiter = ',', skiprows=1)\n",
    "data"
   ]
  },
  {
   "cell_type": "markdown",
   "metadata": {},
   "source": [
    "## Part 2: Covariance and correlation"
   ]
  },
  {
   "cell_type": "markdown",
   "metadata": {},
   "source": [
    "<div style=\"background-color:#AABAB2; color: black; width:90%; vertical-align: middle; padding:15px; margin: 10px; border-radius: 10px\">\n",
    "<p>\n",
    "\n",
    "$\\text{Task 2.1:}$\n",
    "\n",
    "Plot variable X against variable Y. How do you expect the correlation to be? \n",
    "    \n",
    "</p>\n",
    "</div>"
   ]
  },
  {
   "cell_type": "code",
   "execution_count": null,
   "metadata": {
    "tags": [
     "assignment"
    ]
   },
   "outputs": [],
   "source": [
    "### YOUR CODE LINES HERE"
   ]
  },
  {
   "cell_type": "code",
   "execution_count": null,
   "metadata": {
    "tags": [
     "solution"
    ]
   },
   "outputs": [],
   "source": [
    "fig, axs = plt.subplots(1, 1)\n",
    "axs.scatter(data[:,0], data[:,1], 40, 'k')\n",
    "axs.set_ylabel('${DIP} [g/m^3]$')\n",
    "axs.set_xlabel('${DIN} [g/m^3]$')\n",
    "fig.set_size_inches(5, 5)\n",
    "axs.grid();"
   ]
  },
  {
   "cell_type": "markdown",
   "metadata": {},
   "source": [
    "<div style=\"background-color:#AABAB2; color: black; width:90%; vertical-align: middle; padding:15px; margin: 10px; border-radius: 10px\">\n",
    "<p>\n",
    "\n",
    "$\\text{Task 2.2:}$\n",
    "\n",
    "It looks like a relationship exists between both variables. Let's quantify it!\n",
    "\n",
    "Define a function which calculates the covariance between two variables. The function must take as input the two vectors of observations. The output of the function must be the value for the covariance. Apply the function to the dataset to calculate the covariance between $DIN$ and $DIP$. Interpret the obtained value of the covariance.\n",
    "\n",
    "*Important: you have to code the function yourself, do not use a prebuilt function from a package.*\n",
    "\n",
    "*Hint: you can use the function zip to multiply two lists.*\n",
    "</p>\n",
    "</div>"
   ]
  },
  {
   "cell_type": "code",
   "execution_count": null,
   "metadata": {
    "tags": [
     "assignment"
    ]
   },
   "outputs": [],
   "source": [
    "def calculate_covariance(X1, X2):\n",
    "    ### YOUR CODE LINES HERE\n",
    "    return covariance\n",
    "\n",
    "print('The covariance between DIN and DIP is', ### YOUR CODE HERE ###)"
   ]
  },
  {
   "cell_type": "code",
   "execution_count": null,
   "metadata": {
    "tags": [
     "solution"
    ]
   },
   "outputs": [],
   "source": [
    "def calculate_covariance(X1, X2):\n",
    "    mean_x1 = mean(X1)\n",
    "    mean_x2 = mean(X2)\n",
    "    diff_x1 = [item-mean_x1 for item in X1]\n",
    "    diff_x2 = [item-mean_x2 for item in X2]\n",
    "    product = [a*b for a,b in zip(diff_x1,diff_x2)]\n",
    "    covariance = mean(product)\n",
    "    return covariance\n",
    "\n",
    "print('The covariance between DIN and DIP is', \n",
    "      np.round(calculate_covariance(data[:,0], data[:,1]), 5))"
   ]
  },
  {
   "cell_type": "markdown",
   "metadata": {},
   "source": [
    "<div style=\"background-color:#FAE99E; color: black; vertical-align: middle; padding:15px; margin: 10px; border-radius: 10px; width: 90%\">\n",
    "\n",
    "$\\text{Solution 2.2:}$\n",
    "\n",
    "As expected from the visualization plot, the covariance is positive meaning that higher values of $DIN$ are related to higher values of $DIP$. The value of the covariance is very small as its units are the product of the units of random variables, which have very low values. That might trick us and make us think that the strength of the relationship between the variables is small, while the visualization indicates that the strength of the relationship is strong.\n",
    "\n",
    "</p></div>"
   ]
  },
  {
   "cell_type": "markdown",
   "metadata": {},
   "source": [
    "<div style=\"background-color:#AABAB2; color: black; width:90%; vertical-align: middle; padding:15px; margin: 10px; border-radius: 10px\">\n",
    "<p>\n",
    "\n",
    "$\\text{Task 2.3:}$\n",
    "\n",
    "Define a function which calculates Pearson's correlation coefficient between two variables. The function must take as input the two vectors of observations. The output of the function must be the value for the correlation coefficient. Apply the function to the dataset to calculate the correlation coefficient between $DIN$ and $DIP$. Interpret the obtained value of the Pearson's correlation coefficient and compare it with the obtained covariance.\n",
    "\n",
    "</p>\n",
    "</div>"
   ]
  },
  {
   "cell_type": "code",
   "execution_count": null,
   "metadata": {
    "tags": [
     "assignment"
    ]
   },
   "outputs": [],
   "source": [
    "def pearson_correlation(X1, X2):\n",
    "    covariance = calculate_covariance(X1, X2)\n",
    "    correl_coeff = ### YOUR CODE HERE ###\n",
    "    return correl_coeff\n",
    "\n",
    "print(\"Pearson's correlation coefficient between DIN and DIP is\", \n",
    "      ### YOUR CODE HERE ###)"
   ]
  },
  {
   "cell_type": "code",
   "execution_count": null,
   "metadata": {
    "tags": [
     "solution"
    ]
   },
   "outputs": [],
   "source": [
    "def pearson_correlation(X1, X2):\n",
    "    covariance = calculate_covariance(X1, X2)\n",
    "    correl_coeff = covariance/(stdev(X1)*stdev(X2))\n",
    "    return correl_coeff\n",
    "\n",
    "print(\"Pearson's correlation coefficient between DIN and DIP is\", \n",
    "      np.round(pearson_correlation(data[:,0], data[:,1]), 2))"
   ]
  },
  {
   "cell_type": "markdown",
   "metadata": {},
   "source": [
    "<div style=\"background-color:#FAE99E; color: black; vertical-align: middle; padding:15px; margin: 10px; border-radius: 10px; width: 90%\">\n",
    "\n",
    "$\\text{Solution 2.3:}$\n",
    "\n",
    "As expected, the correlation coefficient shows a string positive relationship between $DIN$ and $DIP$. Since Pearson's correlation coefficient is dimensionless and standardized, it is easier to interpret.\n",
    "\n",
    "</p></div>"
   ]
  },
  {
   "cell_type": "markdown",
   "metadata": {},
   "source": [
    "## Part 3: Bivariate Gaussian distribution"
   ]
  },
  {
   "cell_type": "markdown",
   "metadata": {},
   "source": [
    "<div style=\"background-color:#AABAB2; color: black; width:90%; vertical-align: middle; padding:15px; margin: 10px; border-radius: 10px\">\n",
    "<p>\n",
    "\n",
    "$\\text{Task 3.1:}$\n",
    "\n",
    "Model the joint distribution of $DIN$ and $DIP$ using a bivariate Gaussian distribution.\n",
    "Follow the following steps:\n",
    "- Define the vector of means\n",
    "- Define the covariance matrix\n",
    "- Define the bivariate Gaussian distribution and draw 100 samples to compare with the observations.\n",
    "\n",
    "Do you see differences between the observations and the samples from the bivariate Gaussian distribution?\n",
    "</p>\n",
    "</div>"
   ]
  },
  {
   "cell_type": "code",
   "execution_count": null,
   "metadata": {
    "tags": [
     "assignment"
    ]
   },
   "outputs": [],
   "source": [
    "# Define the vector of means\n",
    "mu1 = ### YOUR CODE HERE ###\n",
    "mu2 = ### YOUR CODE HERE ###\n",
    "\n",
    "mu = [mu1, mu2] #vector of means\n",
    "\n",
    "# Define the covariance matrix\n",
    "s1 = ### YOUR CODE HERE ###\n",
    "s2 = ### YOUR CODE HERE ###\n",
    "covariance = ### YOUR CODE HERE ###\n",
    "sigma = ### YOUR CODE HERE ###\n",
    "\n",
    "# Draw 100 samples from a bivariate Gaussian distribution\n",
    "samples = multivariate_normal(mean=mu, cov=sigma).rvs(size=100)\n",
    "\n",
    "# Scatter plot against observations\n",
    "fig, axs = plt.subplots(1, 1)\n",
    "axs.scatter(data[:,0], data[:,1], 40, 'k')\n",
    "axs.scatter(samples[:,0], samples[:,1], 40, 'r')\n",
    "axs.set_ylabel('${DIP} [g/m^3]$')\n",
    "axs.set_xlabel('${DIN} [g/m^3]$')\n",
    "fig.set_size_inches(5, 5)\n",
    "axs.grid();"
   ]
  },
  {
   "cell_type": "code",
   "execution_count": null,
   "metadata": {
    "tags": [
     "solution"
    ]
   },
   "outputs": [],
   "source": [
    "# Define the vector of means\n",
    "mu1 = mean(data[:,0]) #mu_1\n",
    "mu2 = mean(data[:,1]) #mu_2\n",
    "mu = [mu1, mu2] #vector of means\n",
    "\n",
    "# Define the covariance matrix\n",
    "s1 = stdev(data[:,0])  #sigma_x1\n",
    "s2 = stdev(data[:,1])  #sigma_x2\n",
    "covariance = calculate_covariance(data[:,0], data[:,1]) #correlation coefficient\n",
    "sigma = np.array([[s1**2 , covariance], [covariance, s2**2]]) #Covariance matrix\n",
    "\n",
    "# Draw 100 samples from a bivariate Gaussian distribution\n",
    "samples = multivariate_normal(mean=mu, cov=sigma).rvs(size=100)\n",
    "\n",
    "# Scatter plot against observations\n",
    "fig, axs = plt.subplots(1, 1)\n",
    "axs.scatter(data[:,0], data[:,1], 40, 'k')\n",
    "axs.scatter(samples[:,0], samples[:,1], 40, 'r')\n",
    "axs.set_ylabel('${DIP} [g/m^3]$')\n",
    "axs.set_xlabel('${DIN} [g/m^3]$')\n",
    "fig.set_size_inches(5, 5)\n",
    "axs.grid();\n"
   ]
  },
  {
   "cell_type": "markdown",
   "metadata": {},
   "source": [
    "<div style=\"background-color:#FAE99E; color: black; vertical-align: middle; padding:15px; margin: 10px; border-radius: 10px; width: 90%\">\n",
    "\n",
    "$\\text{Solution 3.1:}$\n",
    "\n",
    "The Gaussian distribution does not present bounds, differently to other distributions such as the Lognormal distribution that it is not defined for negative values. Therefore, we obtain samples for $DIN$ and $DIP$ that are negative. Negative concentrations do not have any physical sense, being that a flaw of the bivariate Gaussian distribution as a model in this context.\n",
    "\n",
    "</p></div>"
   ]
  },
  {
   "cell_type": "markdown",
   "metadata": {},
   "source": [
    "<div style=\"background-color:#AABAB2; color: black; width:90%; vertical-align: middle; padding:15px; margin: 10px; border-radius: 10px\">\n",
    "<p>\n",
    "\n",
    "$\\text{Task 3.2:}$\n",
    "\n",
    "Using the defined bivariate Gaussian distribution, compute and plot the bivariate CDF as contours where joint probabilities are projected. This is, the x- and y-axis are the values of $DIN$ and $DIP$ and the contours in the plot represent values of joint probabilities.\n",
    "</p>\n",
    "</div>"
   ]
  },
  {
   "cell_type": "code",
   "execution_count": null,
   "metadata": {
    "tags": [
     "assignment"
    ]
   },
   "outputs": [],
   "source": [
    "# Define the mesh of values where we want to evaluate the random variables\n",
    "n = 200 #size of the mesh\n",
    "values_DIN = np.linspace(### YOUR CODE HERE ###)\n",
    "values_DIP = np.linspace(### YOUR CODE HERE ###)\n",
    "\n",
    "# Define the grid\n",
    "X1,X2 = np.meshgrid(### YOUR CODE HERE ###)\n",
    "X = ### YOUR CODE HERE ###\n",
    "\n",
    "# Evaluate the CDF\n",
    "Z = ### YOUR CODE HERE ###\n",
    "\n",
    "# Create contours plot\n",
    "### YOUR CODE LINES HERE"
   ]
  },
  {
   "cell_type": "code",
   "execution_count": null,
   "metadata": {
    "tags": [
     "solution"
    ]
   },
   "outputs": [],
   "source": [
    "# Define the mesh of values where we want to evaluate the random variables\n",
    "n = 200 #size of the mesh\n",
    "values_DIN = np.linspace(0,mu[0]+3.8*s1,n)\n",
    "values_DIP = np.linspace(0,mu[1]+3.8*s2,n)\n",
    "\n",
    "# Define the grid\n",
    "X1,X2 = np.meshgrid(values_DIN,values_DIP)\n",
    "X = np.array([np.concatenate(X1.T), np.concatenate(X2.T)]).T\n",
    "\n",
    "# Evaluate the CDF\n",
    "Z = multivariate_normal(mean=mu, cov=sigma).cdf(X)\n",
    "\n",
    "# Create contours plot\n",
    "fig = plt.figure(figsize=(6,5))\n",
    "ax = fig.add_subplot(111)\n",
    "contours = ax.contour(X1, X2, Z.reshape(X1.shape), 25, cmap='YlGnBu', vmin=0)\n",
    "ax.grid()\n",
    "ax.set_xlim([0, 0.4])\n",
    "ax.set_ylim([0, 0.04])\n",
    "ax.set_xlabel('${DIN} [g/m^3]$')\n",
    "ax.set_ylabel('${DIP} [g/m^3]$')\n",
    "fig.colorbar(contours, ax=ax, label='Probability Density');\n"
   ]
  },
  {
   "cell_type": "markdown",
   "metadata": {},
   "source": [
    "<div style=\"background-color:#AABAB2; color: black; width:90%; vertical-align: middle; padding:15px; margin: 10px; border-radius: 10px\">\n",
    "<p>\n",
    "\n",
    "$\\text{Task 3.3:}$\n",
    "\n",
    "Using the defined bivariate Gaussian distribution, compute the following probabilities:\n",
    "- $P[DIN>0.3]$\n",
    "- $P[DIN \\leq 0.3 \\ AND \\ DIP \\leq 0.005]$\n",
    "- $P[DIN \\leq 0.3 \\ OR \\ DIP \\leq 0.005]$\n",
    "- $P[DIN > 0.3 \\ AND \\ DIP > 0.005]$\n",
    "\n",
    "The last probability would represent the probability of meeting the minimum requirement of nutrients to ensure the survival of the species (note that the values of the requirements are not realistic). Based on the result, would your species starve? Would you build the farm?\n",
    "</p>\n",
    "</div>"
   ]
  },
  {
   "cell_type": "code",
   "execution_count": null,
   "metadata": {
    "tags": [
     "assignment"
    ]
   },
   "outputs": [],
   "source": [
    "### YOUR CODE LINES HERE"
   ]
  },
  {
   "cell_type": "code",
   "execution_count": null,
   "metadata": {
    "tags": [
     "solution"
    ]
   },
   "outputs": [],
   "source": [
    "# probability DIN>0.3\n",
    "prob_din_higher_03 = 1-norm.cdf(0.3, loc = mu1, scale = s1)\n",
    "print('P[DIN>0.3]=', np.round(prob_din_higher_03, 3))\n",
    "\n",
    "# probability DIN<0.3 and DIP<0.005\n",
    "prob_joint_lower = multivariate_normal(mean=mu, cov=sigma).cdf([0.3, 0.005])\n",
    "print(f'P[DIN<0.3 AND DIP<0.005]=', np.round(prob_joint_lower, 3))\n",
    "\n",
    "#probability DIN<0.3 or DIP<0.005\n",
    "prob_din_lower_03 = norm.cdf(0.3, loc = mu1, scale = s1)\n",
    "prob_dip_lower_0005 = norm.cdf(0.005, loc = mu2, scale = s2)\n",
    "prob_or_lower = prob_din_lower_03 + prob_dip_lower_0005 - prob_joint_lower\n",
    "print(f'P[DIN<0.3 OR DIP<0.005]=', np.round(prob_or_lower, 3))\n",
    "\n",
    "#probability DIN>0.3 and DIP>0.005\n",
    "prob_joint_upper = 1- prob_din_lower_03 - prob_dip_lower_0005 + prob_joint_lower\n",
    "print(f'P[DIN>0.3 AND DIP>0.005]=', np.round(prob_joint_upper, 3))\n"
   ]
  },
  {
   "cell_type": "markdown",
   "metadata": {},
   "source": [
    "## Part 4: Conditionalizing the Bivariate Gaussian distribution"
   ]
  },
  {
   "cell_type": "markdown",
   "metadata": {},
   "source": [
    "<div style=\"background-color:#AABAB2; color: black; width:90%; vertical-align: middle; padding:15px; margin: 10px; border-radius: 10px\">\n",
    "<p>\n",
    "\n",
    "$\\text{Task 4.1:}$\n",
    "\n",
    "Compute the distribution of DIP, given that the value of DIN = 0.05. Plot the PDFs for both the unconditional distribution of DIP and the conditionalized distribution of DIP. Comment on the differences of the two distributions and explain why those changes appear.\n",
    "\n",
    "Compute the parameters of the conditional distribution of DIP using pen and paper and make use of the properties of the Gaussian distribution.\n",
    "</p>\n",
    "</div>"
   ]
  },
  {
   "cell_type": "markdown",
   "metadata": {},
   "source": [
    "<div style=\"background-color:#FAE99E; color: black; vertical-align: middle; padding:15px; margin: 10px; border-radius: 10px; width: 90%\">\n",
    "\n",
    "$\\text{Solution 4.1:}$\n",
    "One of the properties of the multivariate Gaussian distribution is that, when we conditionalize, we always obtain another Gaussian distribution. Here, we are working with a bivariate distribution and we are conditionalizing on one variable ($DIN$). Therefore, we will obtain a univariate Gaussian distribution for $DIP$. But which one?\n",
    "\n",
    "We can compute the (new) parameters of the conditional distribution of $DIP$ using the following expressions (note that they assume that the conditioning variable is $X_2$):\n",
    "\n",
    "$$\n",
    "\\hat{\\mu}=\\mu_1+\\Sigma_{12}\\Sigma_{22}^{-1}(a-\\mu_2)\n",
    "$$\n",
    "\n",
    "$$\n",
    "\\hat{\\Sigma}=\\Sigma_{11}-\\Sigma_{12}\\Sigma_{22}^{-1}\\Sigma_{21}\n",
    "$$\n",
    "\n",
    "Note that the covariance matrix for the conditioned distribution reduces to the conditional variance of $DIP$. This is because we have a bivariate distribution, so given the value of one variable, the resulting conditional distribution is univariate. However, if we had been working with a distribution of 3 variables, when conditionalizing in one, we would have obtained a conditional bivariate distribution.\n",
    "</p></div>"
   ]
  },
  {
   "cell_type": "code",
   "execution_count": null,
   "metadata": {
    "tags": [
     "assignment"
    ]
   },
   "outputs": [],
   "source": [
    "### YOUR CODE LINES HERE"
   ]
  },
  {
   "cell_type": "code",
   "execution_count": null,
   "metadata": {
    "tags": [
     "solution"
    ]
   },
   "outputs": [],
   "source": [
    "# Computing the parameters of the conditional Gaussian distribution using the expressions above\n",
    "cond_mu_DIP = mu[1]+sigma[1][0]*sigma[0][0]**(-1)*(0.05-mu[0])\n",
    "print('The unconditional mean of $DIP$ is', mu[1], 'while the conditioned mean is', cond_mu_DIP)\n",
    "cond_sigma_DIP=sigma[1][1]-sigma[1][0]*sigma[0][0]**(-1)*sigma[0][1]\n",
    "print('The unconditional standard deviation of $DIP$ is', (sigma[1][1])**(0.5), 'while the conditioned standard deviation is', (cond_sigma_DIP)**(0.5))"
   ]
  },
  {
   "cell_type": "code",
   "execution_count": null,
   "metadata": {
    "tags": [
     "solution"
    ]
   },
   "outputs": [],
   "source": [
    "# Evaluate both the conditional and unconditional PDFs of DIP\n",
    "uncond_DIP_pdf = norm.pdf(values_DIP, loc = mu[1], scale = (sigma[1][1])**(0.5))\n",
    "cond_DIP_pdf = norm.pdf(values_DIP, loc = cond_mu_DIP, scale = (cond_sigma_DIP)**(0.5))\n",
    "\n",
    "# Plot both PDFs\n",
    "fig = plt.figure(figsize=(6,5))\n",
    "ax = fig.add_subplot(111)\n",
    "ax.plot(values_DIP, uncond_DIP_pdf, 'k', label = 'Unconditional distribution')\n",
    "ax.plot(values_DIP, cond_DIP_pdf, '--k', label = 'Conditional distribution')\n",
    "ax.grid()\n",
    "ax.set_xlim([0, 0.05])\n",
    "ax.set_ylim([0, 250])\n",
    "ax.set_xlabel('pdf')\n",
    "ax.set_xlabel('${DIP} \\ [g/m^3]$')\n",
    "ax.legend()"
   ]
  },
  {
   "cell_type": "markdown",
   "metadata": {},
   "source": [
    "<div style=\"background-color:#FAE99E; color: black; vertical-align: middle; padding:15px; margin: 10px; border-radius: 10px; width: 90%\">\n",
    "\n",
    "$\\text{Solution 4.1:}$\n",
    "In the plot above, we can observe two main differences between the distributions: (1) location, and (2) width of the distribution. \n",
    "\n",
    "Since we have conditionalized on a low value of $DIN$ (below its mean) and the variables are positively correlated, the distribution of $DIP$ also moves to lower values. If the variables were negatively correlated, the opposite behavior would be observed. \n",
    "\n",
    "When conditionalizing, we are providing with more information to the model and, in general, conditional distributions are expected to be narrower than unconditional ones. In the case of the multivariate Gaussian distribution that is always the case. Note that for other joint distribution that might not be the case."
   ]
  },
  {
   "cell_type": "markdown",
   "metadata": {},
   "source": [
    "<div style=\"background-color:#FAE99E; color: black; vertical-align: middle; padding:15px; margin: 10px; border-radius: 10px; width: 90%\">\n",
    "<p>\n",
    "End of solution.\n",
    "</p>\n",
    "</div>"
   ]
  },
  {
   "cell_type": "markdown",
   "metadata": {},
   "source": [
    "<div style=\"margin-top: 50px; padding-top: 20px; border-top: 1px solid #ccc;\">\n",
    "  <div style=\"display: flex; justify-content: flex-end; gap: 20px; align-items: center;\">\n",
    "    <a rel=\"MUDE\" href=\"http://mude.citg.tudelft.nl/\">\n",
    "      <img alt=\"MUDE\" style=\"width:100px; height:auto;\" src=\"https://gitlab.tudelft.nl/mude/public/-/raw/main/mude-logo/MUDE_Logo-small.png\" />\n",
    "    </a>\n",
    "    <a rel=\"TU Delft\" href=\"https://www.tudelft.nl/en/ceg\">\n",
    "      <img alt=\"TU Delft\" style=\"width:100px; height:auto;\" src=\"https://gitlab.tudelft.nl/mude/public/-/raw/main/tu-logo/TU_P1_full-color.png\" />\n",
    "    </a>\n",
    "    <a rel=\"license\" href=\"http://creativecommons.org/licenses/by/4.0/\">\n",
    "      <img alt=\"Creative Commons License\" style=\"width:88px; height:auto;\" src=\"https://i.creativecommons.org/l/by/4.0/88x31.png\" />\n",
    "    </a>\n",
    "  </div>\n",
    "  <div style=\"font-size: 75%; margin-top: 10px; text-align: right;\">\n",
    "    &copy; Copyright 2025 <a rel=\"MUDE\" href=\"http://mude.citg.tudelft.nl/\">MUDE</a> TU Delft. \n",
    "    This work is licensed under a <a rel=\"license\" href=\"http://creativecommons.org/licenses/by/4.0/\">CC BY 4.0 License</a>.\n",
    "  </div>\n",
    "</div>"
   ]
  }
 ],
 "metadata": {
  "kernelspec": {
   "display_name": "base",
   "language": "python",
   "name": "python3"
  },
  "language_info": {
   "codemirror_mode": {
    "name": "ipython",
    "version": 3
   },
   "file_extension": ".py",
   "mimetype": "text/x-python",
   "name": "python",
   "nbconvert_exporter": "python",
   "pygments_lexer": "ipython3",
   "version": "3.11.5"
  }
 },
 "nbformat": 4,
 "nbformat_minor": 2
}
